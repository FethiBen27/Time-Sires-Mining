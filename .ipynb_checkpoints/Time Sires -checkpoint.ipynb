{
 "cells": [
  {
   "cell_type": "markdown",
   "id": "60dafca8",
   "metadata": {},
   "source": [
    "# Import library"
   ]
  },
  {
   "cell_type": "code",
   "execution_count": 1,
   "id": "453223e5",
   "metadata": {},
   "outputs": [],
   "source": [
    "import numpy as np\n",
    "import pandas as pd\n",
    "import matplotlib.pyplot as plt\n",
    "from tslearn.preprocessing import TimeSeriesScalerMeanVariance\n",
    "from tslearn.piecewise import SymbolicAggregateApproximation\n",
    "from prefixspan import PrefixSpan"
   ]
  },
  {
   "cell_type": "markdown",
   "id": "155acd1e",
   "metadata": {},
   "source": [
    "# Load DataBase "
   ]
  },
  {
   "cell_type": "code",
   "execution_count": 2,
   "id": "3b34d3f4",
   "metadata": {},
   "outputs": [],
   "source": [
    "from pandasgui import show"
   ]
  },
  {
   "cell_type": "code",
   "execution_count": 3,
   "id": "8f8edbc3",
   "metadata": {},
   "outputs": [],
   "source": [
    "df = pd.read_csv('WH90_17.csv')"
   ]
  },
  {
   "cell_type": "code",
   "execution_count": null,
   "id": "1a3afe60",
   "metadata": {},
   "outputs": [
    {
     "name": "stderr",
     "output_type": "stream",
     "text": [
      "PandasGUI INFO — pandasgui.gui — Opening PandasGUI\n"
     ]
    }
   ],
   "source": [
    "show(df)"
   ]
  },
  {
   "cell_type": "markdown",
   "id": "42d09380",
   "metadata": {},
   "source": [
    "# Visualisation Time Series"
   ]
  },
  {
   "cell_type": "code",
   "execution_count": null,
   "id": "79175ccf",
   "metadata": {
    "scrolled": true
   },
   "outputs": [],
   "source": [
    "df.plot(subplots=True, figsize=(20, 26))"
   ]
  },
  {
   "cell_type": "markdown",
   "id": "a75cd1b7",
   "metadata": {},
   "source": [
    "# SAX Implementation"
   ]
  },
  {
   "cell_type": "code",
   "execution_count": null,
   "id": "ba9e4eb0",
   "metadata": {},
   "outputs": [],
   "source": [
    "segment = 26\n",
    "symbol = 7\n",
    "anne = 2017\n",
    "sax_data = {}\n",
    "\n",
    "for i in range(df.shape[1]):\n",
    "    df_Series=df.iloc[:,i]\n",
    "    dataset = df_Series.values\n",
    "    dataset=dataset.reshape(1, 366)\n",
    "    scaler = TimeSeriesScalerMeanVariance(mu=0., std=1.) \n",
    "    dataset = scaler.fit_transform(dataset)\n",
    "\n",
    "    sax = SymbolicAggregateApproximation(n_segments= segment,  alphabet_size_avg=symbol)\n",
    "    sax_dataset_inv = sax.inverse_transform(sax.fit_transform(dataset))\n",
    "    sax_data[anne] = sax.fit_transform(dataset)\n",
    "    anne = anne - 1\n",
    "    plt.plot(dataset[0].ravel(),label='Raw Time Series')\n",
    "    plt.plot(sax_dataset_inv[0].ravel(), label='SAX')\n",
    "    plt.legend(loc='best')\n",
    "    plt.show()"
   ]
  },
  {
   "cell_type": "markdown",
   "id": "68395789",
   "metadata": {},
   "source": [
    "# Time Series Mining (Motifs)"
   ]
  },
  {
   "cell_type": "markdown",
   "id": "904793dd",
   "metadata": {},
   "source": [
    "SAX Ruselt\n"
   ]
  },
  {
   "cell_type": "code",
   "execution_count": null,
   "id": "748fa624",
   "metadata": {},
   "outputs": [],
   "source": [
    "def get_SAX(segment,symbol):\n",
    "    wh= pd.read_csv(f'SAX{segment}_{symbol}.csv',index_col=False)\n",
    "    saxlist = wh.values.tolist()\n",
    "    prs = np.array(saxlist)\n",
    "    return prs"
   ]
  },
  {
   "cell_type": "code",
   "execution_count": null,
   "id": "b9be2906",
   "metadata": {},
   "outputs": [],
   "source": [
    "saxRuselt = get_SAX(26,7)\n",
    "saxRuselt"
   ]
  },
  {
   "cell_type": "markdown",
   "id": "21380ae6",
   "metadata": {},
   "source": [
    "# Prefix Span"
   ]
  },
  {
   "cell_type": "code",
   "execution_count": null,
   "id": "e418154d",
   "metadata": {
    "scrolled": false
   },
   "outputs": [],
   "source": [
    "def get_pattern(segment,symbol,min_sup,long_pattern): \n",
    "    saxRuselt = get_SAX(segment,symbol)\n",
    "    ps = PrefixSpan(saxRuselt)\n",
    "    a = ps.frequent(min_sup)\n",
    "    index = 0\n",
    "    pattern = {}\n",
    "\n",
    "    for i in range (len(a)):\n",
    "        if (len(a[i][1]) >= long_pattern):\n",
    "            print(f\"{a[i][0]} : {a[i][1]}\")\n",
    "            pattern[index] = {'pattern': a[i][1],'segment': segment,'symbol': symbol,\n",
    "                              'min_sup': a[i][0],'long_pattern': long_pattern}\n",
    "            index = index + 1\n",
    "    return pattern"
   ]
  },
  {
   "cell_type": "code",
   "execution_count": null,
   "id": "b032f37f",
   "metadata": {},
   "outputs": [],
   "source": [
    "pattern = get_pattern(20,7,3,16)"
   ]
  },
  {
   "cell_type": "markdown",
   "id": "dabfd1c9",
   "metadata": {},
   "source": [
    "# prefix Span For each year"
   ]
  },
  {
   "cell_type": "code",
   "execution_count": null,
   "id": "e7679744",
   "metadata": {
    "scrolled": false
   },
   "outputs": [],
   "source": [
    "from prefixspan import PrefixSpan\n",
    "sup = 1\n",
    "anne = 2017\n",
    "for idx in range (df.shape[1]) :     \n",
    "    ps = PrefixSpan(sax_data[anne][0])\n",
    "    print(f\"{anne} : {ps.frequent(sup)}\")\n",
    "    anne = anne - 1"
   ]
  }
 ],
 "metadata": {
  "kernelspec": {
   "display_name": "Python 3 (ipykernel)",
   "language": "python",
   "name": "python3"
  },
  "language_info": {
   "codemirror_mode": {
    "name": "ipython",
    "version": 3
   },
   "file_extension": ".py",
   "mimetype": "text/x-python",
   "name": "python",
   "nbconvert_exporter": "python",
   "pygments_lexer": "ipython3",
   "version": "3.8.10"
  }
 },
 "nbformat": 4,
 "nbformat_minor": 5
}
